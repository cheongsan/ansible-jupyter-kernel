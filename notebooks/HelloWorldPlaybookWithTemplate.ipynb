{
 "cells": [
  {
   "cell_type": "code",
   "execution_count": 1,
   "metadata": {},
   "outputs": [],
   "source": [
    "#ansible.cfg\n",
    "[defaults]\n",
    "host_key_checking=False"
   ]
  },
  {
   "cell_type": "code",
   "execution_count": 2,
   "metadata": {},
   "outputs": [],
   "source": [
    "#inventory\n",
    "[all]\n",
    "localhost"
   ]
  },
  {
   "cell_type": "code",
   "execution_count": 3,
   "metadata": {},
   "outputs": [],
   "source": [
    "#vars example_vars\n",
    "message: hello from template"
   ]
  },
  {
   "cell_type": "code",
   "execution_count": 4,
   "metadata": {},
   "outputs": [],
   "source": [
    "#template hello.j2\n",
    "{{message}} "
   ]
  },
  {
   "cell_type": "code",
   "execution_count": 5,
   "metadata": {},
   "outputs": [
    {
     "name": "stdout",
     "output_type": "stream",
     "text": [
      "\n"
     ]
    }
   ],
   "source": [
    "#play\n",
    "name: hello world\n",
    "hosts: localhost\n",
    "gather_facts: false\n",
    "vars_files:\n",
    "    - example_vars"
   ]
  },
  {
   "cell_type": "code",
   "execution_count": 6,
   "metadata": {},
   "outputs": [
    {
     "name": "stdout",
     "output_type": "stream",
     "text": [
      "TASK [template] ****************************************************************\n",
      "changed: [localhost] => {\"checksum\": \"0a82a60ff55d93919952ab6faeb2b024d3120584\", \"dest\": \"/tmp/hello\", \"gid\": 20, \"group\": \"staff\", \"md5sum\": \"fe06f4341cda849034312386cc154981\", \"mode\": \"0644\", \"owner\": \"bthomass\", \"size\": 19, \"src\": \"/Users/bthomass/.ansible/tmp/ansible-tmp-1530815213.08-30837800366859/source\", \"state\": \"file\", \"uid\": 501}\n"
     ]
    }
   ],
   "source": [
    "template:\n",
    "    src: hello.j2\n",
    "    dest: /tmp/hello"
   ]
  },
  {
   "cell_type": "code",
   "execution_count": 7,
   "metadata": {},
   "outputs": [
    {
     "name": "stdout",
     "output_type": "stream",
     "text": [
      "TASK [shell] *******************************************************************\n",
      "changed: [localhost] => {\"cmd\": \"cat /tmp/hello\", \"delta\": \"0:00:00.005310\", \"end\": \"2018-07-05 14:27:03.207954\", \"rc\": 0, \"start\": \"2018-07-05 14:27:03.202644\", \"stderr\": \"\", \"stderr_lines\": [], \"stdout\": \"hello from template\", \"stdout_lines\": [\"hello from template\"]}\n"
     ]
    }
   ],
   "source": [
    "shell: cat /tmp/hello\n",
    "register: output"
   ]
  },
  {
   "cell_type": "code",
   "execution_count": 8,
   "metadata": {},
   "outputs": [
    {
     "name": "stdout",
     "output_type": "stream",
     "text": [
      "TASK [debug] *******************************************************************\n",
      "ok: [localhost] => {\n",
      "    \"output.stdout\": \"hello from template\"\n",
      "}\n"
     ]
    }
   ],
   "source": [
    "debug:\n",
    "    var: output.stdout"
   ]
  },
  {
   "cell_type": "code",
   "execution_count": null,
   "metadata": {},
   "outputs": [],
   "source": []
  }
 ],
 "metadata": {
  "kernelspec": {
   "display_name": "Ansible",
   "language": "ansible",
   "name": "ansible"
  },
  "language_info": {
   "codemirror_mode": "yaml",
   "file_extension": ".yml",
   "mimetype": "text/yaml",
   "name": "ansible"
  }
 },
 "nbformat": 4,
 "nbformat_minor": 2
}
