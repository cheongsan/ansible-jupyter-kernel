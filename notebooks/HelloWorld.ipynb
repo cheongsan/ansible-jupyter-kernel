{
 "cells": [
  {
   "cell_type": "code",
   "execution_count": 1,
   "metadata": {},
   "outputs": [
    {
     "name": "stdout",
     "output_type": "stream",
     "text": [
      "TASK [debug] *******************************************************************\n",
      "ok: [localhost] => {\n",
      "    \"msg\": \"Hello World\"\n",
      "}\n"
     ]
    }
   ],
   "source": [
    "debug:\n",
    " msg: Hello World"
   ]
  },
  {
   "cell_type": "code",
   "execution_count": null,
   "metadata": {},
   "outputs": [],
   "source": []
  }
 ],
 "metadata": {
  "kernelspec": {
   "display_name": "Ansible",
   "language": "ansible",
   "name": "ansible"
  },
  "language_info": {
   "codemirror_mode": "yaml",
   "file_extension": ".yml",
   "mimetype": "text/yaml",
   "name": "ansible"
  }
 },
 "nbformat": 4,
 "nbformat_minor": 2
}
